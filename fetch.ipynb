{
 "cells": [
  {
   "cell_type": "code",
   "execution_count": 37,
   "metadata": {},
   "outputs": [],
   "source": [
    "import requests as req\n",
    "import pandas as pd\n",
    "import os\n",
    "import json\n",
    "import numpy as np\n",
    "import matplotlib.pyplot as plt\n",
    "from sklearn.decomposition import PCA\n",
    "%matplotlib inline\n",
    "\n",
    "KEY = 'pk_723acc97dcdd4f938deaaac9dc5ec542'\n",
    "TICKERS = ['TSLA', 'AAPL', 'MSFT', 'BRK.B', 'JPM', 'FB', 'XOM', 'AMD', 'NVDA', 'DIS']\n",
    "'''\n",
    "max, 5y, 2y, 1y, ytd, 6m, 3m, 1m, 1mm (30 min int), 5d, 5dm(10 min int), date\n",
    "'''\n",
    "TIMESCALE = '1y'\n",
    "DATA_FILE = 'data'"
   ]
  },
  {
   "cell_type": "code",
   "execution_count": 2,
   "metadata": {},
   "outputs": [],
   "source": [
    "def fetch_data(tickers, timescale, key, dataloc=DATA_FILE):\n",
    "    for ticker in tickers: \n",
    "        url = f'https://cloud.iexapis.com/v1/stock/{ticker}/chart/{timescale}?token={key}'\n",
    "        #url = f'https://sandbox.iexapis.com/stable/stock/{ticker}/chart/{timescale}?token={key}'\n",
    "        res = req.get(url)\n",
    "        with open(f'data/{ticker}{timescale}.json', 'w') as f:\n",
    "            json.dump(res.json(), f)\n",
    "            f.close()\n",
    "\n",
    "\n",
    "# fetch_data(TICKERS, TIMESCALE, KEY)"
   ]
  },
  {
   "cell_type": "code",
   "execution_count": 3,
   "metadata": {},
   "outputs": [],
   "source": [
    "returns = [] \n",
    "for price_data in os.listdir(DATA_FILE):\n",
    "    with open(f'{DATA_FILE}/{price_data}', 'r') as file:\n",
    "        data = json.load(file)\n",
    "        file.close()\n",
    "    # only use adjusted close data\n",
    "    prices = [days['close'] for days in data] \n",
    "    ticker_returns = [] \n",
    "    for i in range(1, len(prices)):\n",
    "        # calculate return from m-1,m pairs\n",
    "        ticker_return = ((prices[i] - prices[i-1]) / prices[i]) * 100\n",
    "        ticker_returns.append(ticker_return)\n",
    "    \n",
    "    returns.append(ticker_returns)\n",
    "\n"
   ]
  },
  {
   "cell_type": "code",
   "execution_count": 12,
   "metadata": {},
   "outputs": [],
   "source": [
    "# number of stocks\n",
    "N = len(returns)\n",
    "# days of returns data\n",
    "T = len(returns[0])\n",
    "# standardized stock return matrix, rx - mean / std, N x M dimensions\n",
    "Std = np.zeros(N)\n",
    "Y = np.zeros((N, T))\n",
    "for i in range(N): \n",
    "    R_bar = np.mean(returns[i])\n",
    "    sigma = np.std(returns[i])\n",
    "    Std[i] = sigma\n",
    "    Y[i] = [((R_i - R_bar)/sigma) for R_i in returns[i]]"
   ]
  },
  {
   "cell_type": "code",
   "execution_count": 131,
   "metadata": {},
   "outputs": [],
   "source": [
    "# correlation matrix with dimensions M x M\n",
    "P = np.matmul(Y, np.transpose(Y)) * (1 / T)"
   ]
  },
  {
   "cell_type": "code",
   "execution_count": 161,
   "metadata": {},
   "outputs": [],
   "source": [
    "pca = PCA(N)\n",
    "pca.fit(returns)\n",
    "eigenvalues = pca.explained_variance_ratio_\n",
    "eigenvectors = pca.components_"
   ]
  },
  {
   "cell_type": "code",
   "execution_count": 167,
   "metadata": {},
   "outputs": [
    {
     "data": {
      "text/plain": [
       "251"
      ]
     },
     "execution_count": 167,
     "metadata": {},
     "output_type": "execute_result"
    }
   ],
   "source": []
  },
  {
   "cell_type": "code",
   "execution_count": 108,
   "metadata": {},
   "outputs": [
    {
     "data": {
      "text/plain": [
       "-1.3660947373317356e-16"
      ]
     },
     "execution_count": 108,
     "metadata": {},
     "output_type": "execute_result"
    }
   ],
   "source": []
  },
  {
   "cell_type": "code",
   "execution_count": 84,
   "metadata": {},
   "outputs": [
    {
     "name": "stdout",
     "output_type": "stream",
     "text": [
      "[4.58829879e-01 2.20488683e-01 9.81715034e-02 6.05960187e-02\n",
      " 5.03241054e-02 3.92735223e-02 3.69645739e-02 2.27374209e-02\n",
      " 1.26142923e-02 1.72656844e-32]\n"
     ]
    }
   ],
   "source": []
  },
  {
   "cell_type": "code",
   "execution_count": null,
   "metadata": {},
   "outputs": [],
   "source": []
  },
  {
   "cell_type": "code",
   "execution_count": null,
   "metadata": {},
   "outputs": [],
   "source": []
  }
 ],
 "metadata": {
  "kernelspec": {
   "display_name": "Python 3",
   "language": "python",
   "name": "python3"
  },
  "language_info": {
   "codemirror_mode": {
    "name": "ipython",
    "version": 3
   },
   "file_extension": ".py",
   "mimetype": "text/x-python",
   "name": "python",
   "nbconvert_exporter": "python",
   "pygments_lexer": "ipython3",
   "version": "3.8.5"
  }
 },
 "nbformat": 4,
 "nbformat_minor": 4
}

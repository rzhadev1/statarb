{
 "cells": [
  {
   "cell_type": "code",
   "execution_count": 110,
   "metadata": {},
   "outputs": [],
   "source": [
    "import requests as req\n",
    "import pandas as pd\n",
    "import os\n",
    "import json\n",
    "import numpy as np\n",
    "import matplotlib.pyplot as plt\n",
    "%matplotlib inline\n",
    "\n",
    "KEY = 'pk_723acc97dcdd4f938deaaac9dc5ec542'\n",
    "TICKERS = ['TSLA', 'AAPL', 'MSFT', 'BRK.B', 'JPM', 'FB', 'XOM', 'AMD', 'NVDA', 'DIS']\n",
    "'''\n",
    "max, 5y, 2y, 1y, ytd, 6m, 3m, 1m, 1mm (30 min int), 5d, 5dm(10 min int), date\n",
    "'''\n",
    "TIMESCALE = '1y'\n",
    "DATA_FILE = 'data'"
   ]
  },
  {
   "cell_type": "code",
   "execution_count": 117,
   "metadata": {},
   "outputs": [],
   "source": [
    "def fetch_data(tickers, timescale, key, dataloc):\n",
    "    for ticker in tickers: \n",
    "        url = f'https://cloud.iexapis.com/v1/stock/{ticker}/chart/{timescale}?token={key}'\n",
    "        #url = f'https://sandbox.iexapis.com/stable/stock/{ticker}/chart/{timescale}?token={key}'\n",
    "        res = req.get(url)\n",
    "        with open(f'data/{ticker}{timescale}.json', 'w') as f:\n",
    "            json.dump(res.json(), f)\n",
    "            f.close()\n",
    "\n",
    "\n",
    "# fetch_data(TICKERS, TIMESCALE, KEY, DATA_FILE)"
   ]
  },
  {
   "cell_type": "code",
   "execution_count": 235,
   "metadata": {},
   "outputs": [],
   "source": [
    "returns = [] \n",
    "for price_data in os.listdir(DATA_FILE):\n",
    "    with open(f'{DATA_FILE}/{price_data}', 'r') as file:\n",
    "        data = json.load(file)\n",
    "        file.close()\n",
    "    # only use adjusted close data\n",
    "    prices = [days['close'] for days in data] \n",
    "    ticker_returns = [] \n",
    "    for i in range(1, len(prices)):\n",
    "        # calculate return from m-1,m pairs\n",
    "        ticker_return = ((prices[i] - prices[i-1]) / prices[i]) * 100\n",
    "        ticker_returns.append(ticker_return)\n",
    "    \n",
    "    returns.append(ticker_returns)\n",
    "\n"
   ]
  },
  {
   "cell_type": "code",
   "execution_count": 264,
   "metadata": {},
   "outputs": [],
   "source": [
    "# number of stocks\n",
    "N = len(returns)\n",
    "# days of returns data\n",
    "M = len(returns[0])\n",
    "# standardized stock return matrix, rx - mean / std, N x M dimensions\n",
    "Y = np.zeros((N, M))\n",
    "for i in range(N): \n",
    "    R_bar = np.mean(returns[i])\n",
    "    sigma = np.std(returns[i])\n",
    "    Y[i] = [((R_i - R_bar)/sigma) for R_i in returns[i]]"
   ]
  },
  {
   "cell_type": "code",
   "execution_count": 265,
   "metadata": {},
   "outputs": [],
   "source": [
    "# correlation matrix with dimensions M x M\n",
    "P = np.matmul(Y, np.transpose(Y)) * (1 / M)"
   ]
  },
  {
   "cell_type": "code",
   "execution_count": null,
   "metadata": {},
   "outputs": [],
   "source": []
  }
 ],
 "metadata": {
  "kernelspec": {
   "display_name": "Python 3",
   "language": "python",
   "name": "python3"
  },
  "language_info": {
   "codemirror_mode": {
    "name": "ipython",
    "version": 3
   },
   "file_extension": ".py",
   "mimetype": "text/x-python",
   "name": "python",
   "nbconvert_exporter": "python",
   "pygments_lexer": "ipython3",
   "version": "3.8.3"
  }
 },
 "nbformat": 4,
 "nbformat_minor": 4
}

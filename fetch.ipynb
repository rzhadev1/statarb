{
 "cells": [
  {
   "cell_type": "code",
   "execution_count": 112,
   "metadata": {},
   "outputs": [],
   "source": [
    "import requests as req\n",
    "import pandas as pd\n",
    "import os\n",
    "import json\n",
    "import numpy as np\n",
    "import matplotlib.pyplot as plt\n",
    "%matplotlib inline\n",
    "\n",
    "KEY = 'pk_723acc97dcdd4f938deaaac9dc5ec542'\n",
    "TICKER = 'TSLA'\n",
    "TIMESCALE = '5y'"
   ]
  },
  {
   "cell_type": "code",
   "execution_count": 114,
   "metadata": {},
   "outputs": [
    {
     "data": {
      "text/plain": [
       "\"\\nurl = f'https://cloud.iexapis.com/stable/stock/{TICKER}/chart/{TIMESCALE}?token={KEY}'\\nres = requests.get(url)\\nwith open(f'{TICKER.lower()}{TIMESCALE}.json', 'w') as f:\\n    json.dump(res.json(), f)\\n\""
      ]
     },
     "execution_count": 114,
     "metadata": {},
     "output_type": "execute_result"
    }
   ],
   "source": [
    "'''\n",
    "url = f'https://cloud.iexapis.com/stable/stock/{TICKER}/chart/{TIMESCALE}?token={KEY}'\n",
    "res = requests.get(url)\n",
    "with open(f'{TICKER.lower()}{TIMESCALE}.json', 'w') as f:\n",
    "    json.dump(res.json(), f)\n",
    "'''"
   ]
  },
  {
   "cell_type": "code",
   "execution_count": 115,
   "metadata": {},
   "outputs": [],
   "source": [
    "FILE = 'aapl5y.json'\n",
    "with open(FILE, 'r') as f:\n",
    "    data = json.load(f)"
   ]
  },
  {
   "cell_type": "code",
   "execution_count": 116,
   "metadata": {},
   "outputs": [
    {
     "name": "stdout",
     "output_type": "stream",
     "text": [
      "[ 24.335  24.365  24.285 ... 127.13  126.11  127.35 ]\n"
     ]
    },
    {
     "data": {
      "text/plain": [
       "[<matplotlib.lines.Line2D at 0x1b2c9700130>]"
      ]
     },
     "execution_count": 116,
     "metadata": {},
     "output_type": "execute_result"
    },
    {
     "data": {
      "image/png": "[encoded data removed]",
      "text/plain": [
       "<Figure size 432x288 with 1 Axes>"
      ]
     },
     "metadata": {
      "needs_background": "light"
     },
     "output_type": "display_data"
    }
   ],
   "source": [
    "arr = np.zeros((len(data)))\n",
    "for x in zip(range(len(data)), data): \n",
    "    arr[x[0]] = x[1][\"close\"]\n",
    "\n",
    "print(arr)\n",
    "plt.plot(range(len(data)), arr)"
   ]
  },
  {
   "cell_type": "code",
   "execution_count": null,
   "metadata": {},
   "outputs": [],
   "source": []
  }
 ],
 "metadata": {
  "kernelspec": {
   "display_name": "Python 3",
   "language": "python",
   "name": "python3"
  },
  "language_info": {
   "codemirror_mode": {
    "name": "ipython",
    "version": 3
   },
   "file_extension": ".py",
   "mimetype": "text/x-python",
   "name": "python",
   "nbconvert_exporter": "python",
   "pygments_lexer": "ipython3",
   "version": "3.8.3"
  }
 },
 "nbformat": 4,
 "nbformat_minor": 4
}
